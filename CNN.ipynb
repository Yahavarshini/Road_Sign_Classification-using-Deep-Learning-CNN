{
 "cells": [
  {
   "cell_type": "code",
   "execution_count": 1,
   "id": "a5cc78c2",
   "metadata": {},
   "outputs": [
    {
     "ename": "ModuleNotFoundError",
     "evalue": "No module named 'matplotlib.backends.registry'",
     "output_type": "error",
     "traceback": [
      "\u001b[1;31m---------------------------------------------------------------------------\u001b[0m",
      "\u001b[1;31mModuleNotFoundError\u001b[0m                       Traceback (most recent call last)",
      "Cell \u001b[1;32mIn[1], line 3\u001b[0m\n\u001b[0;32m      1\u001b[0m \u001b[38;5;28;01mimport\u001b[39;00m \u001b[38;5;21;01mnumpy\u001b[39;00m \u001b[38;5;28;01mas\u001b[39;00m \u001b[38;5;21;01mnp\u001b[39;00m\n\u001b[0;32m      2\u001b[0m \u001b[38;5;28;01mimport\u001b[39;00m \u001b[38;5;21;01mpandas\u001b[39;00m \u001b[38;5;28;01mas\u001b[39;00m \u001b[38;5;21;01mpd\u001b[39;00m\n\u001b[1;32m----> 3\u001b[0m \u001b[38;5;28;01mimport\u001b[39;00m \u001b[38;5;21;01mmatplotlib\u001b[39;00m\u001b[38;5;21;01m.\u001b[39;00m\u001b[38;5;21;01mpyplot\u001b[39;00m \u001b[38;5;28;01mas\u001b[39;00m \u001b[38;5;21;01mplt\u001b[39;00m\n\u001b[0;32m      4\u001b[0m \u001b[38;5;28;01mimport\u001b[39;00m \u001b[38;5;21;01mpickle\u001b[39;00m\n\u001b[0;32m      5\u001b[0m \u001b[38;5;28;01mfrom\u001b[39;00m \u001b[38;5;21;01msklearn\u001b[39;00m\u001b[38;5;21;01m.\u001b[39;00m\u001b[38;5;21;01mutils\u001b[39;00m \u001b[38;5;28;01mimport\u001b[39;00m shuffle\n",
      "File \u001b[1;32mc:\\Users\\yahav\\anaconda3\\Lib\\site-packages\\matplotlib\\__init__.py:159\u001b[0m\n\u001b[0;32m    155\u001b[0m \u001b[38;5;28;01mfrom\u001b[39;00m \u001b[38;5;21;01mpackaging\u001b[39;00m\u001b[38;5;21;01m.\u001b[39;00m\u001b[38;5;21;01mversion\u001b[39;00m \u001b[38;5;28;01mimport\u001b[39;00m parse \u001b[38;5;28;01mas\u001b[39;00m parse_version\n\u001b[0;32m    157\u001b[0m \u001b[38;5;66;03m# cbook must import matplotlib only within function\u001b[39;00m\n\u001b[0;32m    158\u001b[0m \u001b[38;5;66;03m# definitions, so it is safe to import from it here.\u001b[39;00m\n\u001b[1;32m--> 159\u001b[0m \u001b[38;5;28;01mfrom\u001b[39;00m \u001b[38;5;21;01m.\u001b[39;00m \u001b[38;5;28;01mimport\u001b[39;00m _api, _version, cbook, _docstring, rcsetup\n\u001b[0;32m    160\u001b[0m \u001b[38;5;28;01mfrom\u001b[39;00m \u001b[38;5;21;01mmatplotlib\u001b[39;00m\u001b[38;5;21;01m.\u001b[39;00m\u001b[38;5;21;01mcbook\u001b[39;00m \u001b[38;5;28;01mimport\u001b[39;00m sanitize_sequence\n\u001b[0;32m    161\u001b[0m \u001b[38;5;28;01mfrom\u001b[39;00m \u001b[38;5;21;01mmatplotlib\u001b[39;00m\u001b[38;5;21;01m.\u001b[39;00m\u001b[38;5;21;01m_api\u001b[39;00m \u001b[38;5;28;01mimport\u001b[39;00m MatplotlibDeprecationWarning\n",
      "File \u001b[1;32mc:\\Users\\yahav\\anaconda3\\Lib\\site-packages\\matplotlib\\rcsetup.py:26\u001b[0m\n\u001b[0;32m     23\u001b[0m \u001b[38;5;28;01mimport\u001b[39;00m \u001b[38;5;21;01mnumpy\u001b[39;00m \u001b[38;5;28;01mas\u001b[39;00m \u001b[38;5;21;01mnp\u001b[39;00m\n\u001b[0;32m     25\u001b[0m \u001b[38;5;28;01mfrom\u001b[39;00m \u001b[38;5;21;01mmatplotlib\u001b[39;00m \u001b[38;5;28;01mimport\u001b[39;00m _api, cbook\n\u001b[1;32m---> 26\u001b[0m \u001b[38;5;28;01mfrom\u001b[39;00m \u001b[38;5;21;01mmatplotlib\u001b[39;00m\u001b[38;5;21;01m.\u001b[39;00m\u001b[38;5;21;01mbackends\u001b[39;00m \u001b[38;5;28;01mimport\u001b[39;00m BackendFilter, backend_registry\n\u001b[0;32m     27\u001b[0m \u001b[38;5;28;01mfrom\u001b[39;00m \u001b[38;5;21;01mmatplotlib\u001b[39;00m\u001b[38;5;21;01m.\u001b[39;00m\u001b[38;5;21;01mcbook\u001b[39;00m \u001b[38;5;28;01mimport\u001b[39;00m ls_mapper\n\u001b[0;32m     28\u001b[0m \u001b[38;5;28;01mfrom\u001b[39;00m \u001b[38;5;21;01mmatplotlib\u001b[39;00m\u001b[38;5;21;01m.\u001b[39;00m\u001b[38;5;21;01mcolors\u001b[39;00m \u001b[38;5;28;01mimport\u001b[39;00m Colormap, is_color_like\n",
      "File \u001b[1;32mc:\\Users\\yahav\\anaconda3\\Lib\\site-packages\\matplotlib\\backends\\__init__.py:1\u001b[0m\n\u001b[1;32m----> 1\u001b[0m \u001b[38;5;28;01mfrom\u001b[39;00m \u001b[38;5;21;01m.\u001b[39;00m\u001b[38;5;21;01mregistry\u001b[39;00m \u001b[38;5;28;01mimport\u001b[39;00m BackendFilter, backend_registry  \u001b[38;5;66;03m# noqa: F401\u001b[39;00m\n\u001b[0;32m      3\u001b[0m \u001b[38;5;66;03m# NOTE: plt.switch_backend() (called at import time) will add a \"backend\"\u001b[39;00m\n\u001b[0;32m      4\u001b[0m \u001b[38;5;66;03m# attribute here for backcompat.\u001b[39;00m\n\u001b[0;32m      5\u001b[0m _QT_FORCE_QT5_BINDING \u001b[38;5;241m=\u001b[39m \u001b[38;5;28;01mFalse\u001b[39;00m\n",
      "\u001b[1;31mModuleNotFoundError\u001b[0m: No module named 'matplotlib.backends.registry'"
     ]
    }
   ],
   "source": [
    "import numpy as np\n",
    "import pandas as pd\n",
    "import matplotlib.pyplot as plt\n",
    "import pickle\n",
    "from sklearn.utils import shuffle\n",
    "from sklearn.metrics import classification_report, confusion_matrix\n",
    "import seaborn as sns\n",
    "import tensorflow as tf\n",
    "from tensorflow.keras import layers, models\n",
    "from tensorflow.keras.layers import Dropout, Flatten, Dense, Conv2D, MaxPooling2D\n",
    "from tensorflow.keras.models import Sequential\n",
    "from tensorflow.keras.callbacks import EarlyStopping\n",
    "from tensorflow.keras.utils import to_categorical"
   ]
  },
  {
   "cell_type": "code",
   "execution_count": 149,
   "id": "bb0bb9d9",
   "metadata": {},
   "outputs": [],
   "source": [
    "# Load pickled datasets\n",
    "def load_pickle(path):\n",
    "    with open(path, 'rb') as f:\n",
    "        return pickle.load(f)\n",
    "\n",
    "train_data = load_pickle(\"Road_signs/train.p\")\n",
    "valid_data = load_pickle(\"Road_signs/valid.p\")\n",
    "test_data = load_pickle(\"Road_signs/test.p\")\n"
   ]
  },
  {
   "cell_type": "code",
   "execution_count": 150,
   "id": "9e0f86e7",
   "metadata": {},
   "outputs": [],
   "source": [
    "X_train, y_train = train_data['features'], train_data['labels']\n",
    "X_valid, y_valid = valid_data['features'], valid_data['labels']\n",
    "X_test, y_test = test_data['features'], test_data['labels']"
   ]
  },
  {
   "cell_type": "code",
   "execution_count": 151,
   "id": "1d9f66a8",
   "metadata": {},
   "outputs": [
    {
     "name": "stdout",
     "output_type": "stream",
     "text": [
      "[[[[116 139 174]\n",
      "   [116 137 171]\n",
      "   [118 138 172]\n",
      "   ...\n",
      "   [ 98 114 143]\n",
      "   [ 97 121 147]\n",
      "   [ 85 105 130]]\n",
      "\n",
      "  [[115 142 176]\n",
      "   [115 140 174]\n",
      "   [117 141 175]\n",
      "   ...\n",
      "   [119 143 176]\n",
      "   [120 141 173]\n",
      "   [120 139 171]]\n",
      "\n",
      "  [[117 141 174]\n",
      "   [117 142 175]\n",
      "   [114 140 172]\n",
      "   ...\n",
      "   [120 144 179]\n",
      "   [122 144 179]\n",
      "   [120 143 177]]\n",
      "\n",
      "  ...\n",
      "\n",
      "  [[117 137 167]\n",
      "   [115 134 164]\n",
      "   [117 135 164]\n",
      "   ...\n",
      "   [115 137 169]\n",
      "   [116 136 168]\n",
      "   [118 139 172]]\n",
      "\n",
      "  [[116 136 166]\n",
      "   [114 134 168]\n",
      "   [113 131 166]\n",
      "   ...\n",
      "   [113 135 167]\n",
      "   [117 136 165]\n",
      "   [115 139 167]]\n",
      "\n",
      "  [[112 135 167]\n",
      "   [110 134 165]\n",
      "   [119 135 165]\n",
      "   ...\n",
      "   [115 138 167]\n",
      "   [117 138 167]\n",
      "   [114 140 170]]]\n",
      "\n",
      "\n",
      " [[[ 59  70  61]\n",
      "   [ 87  80  63]\n",
      "   [ 92  81  63]\n",
      "   ...\n",
      "   [ 77  64  67]\n",
      "   [ 71  65  67]\n",
      "   [ 74  69  68]]\n",
      "\n",
      "  [[ 59  68  58]\n",
      "   [ 94  83  65]\n",
      "   [ 95  80  62]\n",
      "   ...\n",
      "   [ 77  64  66]\n",
      "   [ 92  69  70]\n",
      "   [ 85  68  68]]\n",
      "\n",
      "  [[ 56  68  58]\n",
      "   [ 90  84  67]\n",
      "   [ 95  82  64]\n",
      "   ...\n",
      "   [ 72  65  66]\n",
      "   [ 80  67  69]\n",
      "   [ 79  69  70]]\n",
      "\n",
      "  ...\n",
      "\n",
      "  [[ 48  47  43]\n",
      "   [ 79  68  57]\n",
      "   [ 80  66  56]\n",
      "   ...\n",
      "   [ 68  63  63]\n",
      "   [ 78  65  65]\n",
      "   [ 76  66  68]]\n",
      "\n",
      "  [[ 49  46  45]\n",
      "   [ 78  66  61]\n",
      "   [ 78  65  58]\n",
      "   ...\n",
      "   [ 60  60  61]\n",
      "   [ 68  65  65]\n",
      "   [ 73  67  67]]\n",
      "\n",
      "  [[ 51  45  45]\n",
      "   [ 78  66  61]\n",
      "   [ 79  66  58]\n",
      "   ...\n",
      "   [ 62  59  62]\n",
      "   [ 73  67  70]\n",
      "   [ 75  70  70]]]\n",
      "\n",
      "\n",
      " [[[ 52  40  38]\n",
      "   [ 51  39  37]\n",
      "   [ 50  38  37]\n",
      "   ...\n",
      "   [ 53  44  46]\n",
      "   [ 54  45  48]\n",
      "   [ 55  45  48]]\n",
      "\n",
      "  [[ 59  45  42]\n",
      "   [ 59  44  41]\n",
      "   [ 56  44  40]\n",
      "   ...\n",
      "   [ 52  41  42]\n",
      "   [ 54  44  45]\n",
      "   [ 55  46  45]]\n",
      "\n",
      "  [[ 67  49  44]\n",
      "   [ 65  50  45]\n",
      "   [ 65  49  45]\n",
      "   ...\n",
      "   [ 57  42  39]\n",
      "   [ 55  42  40]\n",
      "   [ 56  43  40]]\n",
      "\n",
      "  ...\n",
      "\n",
      "  [[ 28  24  26]\n",
      "   [ 29  25  27]\n",
      "   [ 29  27  30]\n",
      "   ...\n",
      "   [ 27  24  24]\n",
      "   [ 28  25  24]\n",
      "   [ 29  27  27]]\n",
      "\n",
      "  [[ 31  28  29]\n",
      "   [ 37  32  34]\n",
      "   [ 41  35  37]\n",
      "   ...\n",
      "   [ 34  31  28]\n",
      "   [ 42  40  38]\n",
      "   [ 47  45  45]]\n",
      "\n",
      "  [[ 32  29  30]\n",
      "   [ 33  28  28]\n",
      "   [ 44  34  32]\n",
      "   ...\n",
      "   [ 41  40  38]\n",
      "   [ 44  43  43]\n",
      "   [ 47  46  44]]]\n",
      "\n",
      "\n",
      " ...\n",
      "\n",
      "\n",
      " [[[ 24  27  34]\n",
      "   [ 23  25  32]\n",
      "   [ 24  25  32]\n",
      "   ...\n",
      "   [ 26  27  33]\n",
      "   [ 26  27  34]\n",
      "   [ 26  27  34]]\n",
      "\n",
      "  [[ 25  26  33]\n",
      "   [ 25  26  34]\n",
      "   [ 25  26  33]\n",
      "   ...\n",
      "   [ 26  27  34]\n",
      "   [ 27  27  35]\n",
      "   [ 28  28  36]]\n",
      "\n",
      "  [[ 26  26  32]\n",
      "   [ 25  25  32]\n",
      "   [ 25  25  31]\n",
      "   ...\n",
      "   [ 26  27  33]\n",
      "   [ 27  27  33]\n",
      "   [ 27  26  34]]\n",
      "\n",
      "  ...\n",
      "\n",
      "  [[ 16  17  21]\n",
      "   [ 15  16  21]\n",
      "   [ 14  16  21]\n",
      "   ...\n",
      "   [ 19  21  30]\n",
      "   [ 20  22  32]\n",
      "   [ 19  21  30]]\n",
      "\n",
      "  [[ 16  17  22]\n",
      "   [ 15  16  21]\n",
      "   [ 14  16  21]\n",
      "   ...\n",
      "   [ 19  21  30]\n",
      "   [ 20  22  32]\n",
      "   [ 19  22  32]]\n",
      "\n",
      "  [[ 15  16  21]\n",
      "   [ 15  16  21]\n",
      "   [ 14  16  21]\n",
      "   ...\n",
      "   [ 18  21  30]\n",
      "   [ 19  22  32]\n",
      "   [ 18  22  31]]]\n",
      "\n",
      "\n",
      " [[[ 47  58  73]\n",
      "   [ 49  53  67]\n",
      "   [ 59  57  63]\n",
      "   ...\n",
      "   [ 39  36  44]\n",
      "   [ 12  10  12]\n",
      "   [ 10   9  12]]\n",
      "\n",
      "  [[ 61  68  84]\n",
      "   [ 61  58  72]\n",
      "   [ 60  57  67]\n",
      "   ...\n",
      "   [ 26  23  31]\n",
      "   [ 12  10   8]\n",
      "   [ 11   9  11]]\n",
      "\n",
      "  [[ 66  75  93]\n",
      "   [ 72  79  99]\n",
      "   [ 67  73  94]\n",
      "   ...\n",
      "   [ 36  36  38]\n",
      "   [ 25  21  14]\n",
      "   [ 13   9  10]]\n",
      "\n",
      "  ...\n",
      "\n",
      "  [[ 16  16  19]\n",
      "   [ 15  15  18]\n",
      "   [ 14  13  17]\n",
      "   ...\n",
      "   [ 32  31  37]\n",
      "   [ 36  37  44]\n",
      "   [ 24  24  23]]\n",
      "\n",
      "  [[ 13  12  15]\n",
      "   [ 13  12  14]\n",
      "   [ 12  11  13]\n",
      "   ...\n",
      "   [ 26  28  33]\n",
      "   [ 32  35  39]\n",
      "   [ 28  27  24]]\n",
      "\n",
      "  [[ 12  11  14]\n",
      "   [ 12  11  14]\n",
      "   [ 12  10  12]\n",
      "   ...\n",
      "   [ 28  32  40]\n",
      "   [ 36  37  40]\n",
      "   [ 29  27  22]]]\n",
      "\n",
      "\n",
      " [[[ 10  10  13]\n",
      "   [ 10  10  13]\n",
      "   [ 10   9  12]\n",
      "   ...\n",
      "   [ 13  12  15]\n",
      "   [ 13  12  15]\n",
      "   [ 13  12  16]]\n",
      "\n",
      "  [[ 12  11  14]\n",
      "   [  9   9  12]\n",
      "   [  9   9  12]\n",
      "   ...\n",
      "   [ 13  12  14]\n",
      "   [ 13  12  15]\n",
      "   [ 13  12  16]]\n",
      "\n",
      "  [[ 11   9  11]\n",
      "   [  9   8  11]\n",
      "   [  9   9  12]\n",
      "   ...\n",
      "   [ 13  12  14]\n",
      "   [ 13  12  15]\n",
      "   [ 13  12  16]]\n",
      "\n",
      "  ...\n",
      "\n",
      "  [[ 11   9  13]\n",
      "   [ 10   9  12]\n",
      "   [ 11  10  13]\n",
      "   ...\n",
      "   [ 11  10  13]\n",
      "   [ 10   9  12]\n",
      "   [ 12  11  14]]\n",
      "\n",
      "  [[ 11  10  14]\n",
      "   [ 11  10  14]\n",
      "   [ 11  10  14]\n",
      "   ...\n",
      "   [  9   9  12]\n",
      "   [  9   9  11]\n",
      "   [ 12  11  13]]\n",
      "\n",
      "  [[ 10  10  13]\n",
      "   [ 10   9  12]\n",
      "   [ 11   9  12]\n",
      "   ...\n",
      "   [ 10  10  13]\n",
      "   [  9  10  12]\n",
      "   [ 11  11  13]]]]\n"
     ]
    }
   ],
   "source": [
    "print(X_test)"
   ]
  },
  {
   "cell_type": "code",
   "execution_count": 152,
   "id": "8ef6c34b",
   "metadata": {},
   "outputs": [
    {
     "data": {
      "text/plain": [
       "array([ 0,  1,  2,  3,  4,  5,  6,  7,  8,  9, 10, 11, 12, 13, 14, 15, 16,\n",
       "       17, 18, 19, 20, 21, 22, 23, 24, 25, 26, 27, 28, 29, 30, 31, 32, 33,\n",
       "       34, 35, 36, 37, 38, 39, 40, 41, 42], dtype=uint8)"
      ]
     },
     "execution_count": 152,
     "metadata": {},
     "output_type": "execute_result"
    }
   ],
   "source": [
    "np.unique(y_train)"
   ]
  },
  {
   "cell_type": "code",
   "execution_count": 153,
   "id": "f8ac26a3",
   "metadata": {},
   "outputs": [
    {
     "name": "stdout",
     "output_type": "stream",
     "text": [
      "Training set: (34799, 32, 32, 3)\n",
      "Validation set: (4410, 32, 32, 3)\n",
      "Test set: (12630, 32, 32, 3)\n"
     ]
    }
   ],
   "source": [
    "print(\"Training set:\", X_train.shape)\n",
    "print(\"Validation set:\", X_valid.shape)\n",
    "print(\"Test set:\", X_test.shape)\n"
   ]
  },
  {
   "cell_type": "code",
   "execution_count": 154,
   "id": "87f9c0e6",
   "metadata": {},
   "outputs": [],
   "source": [
    "# y_train_cat = to_categorical(y_train)\n",
    "# y_valid_cat = to_categorical(y_valid)\n",
    "# y_test_cat = to_categorical(y_test)"
   ]
  },
  {
   "cell_type": "code",
   "execution_count": 155,
   "id": "506d5ada",
   "metadata": {},
   "outputs": [
    {
     "data": {
      "text/plain": [
       "Text(0.5, 1.0, '41')"
      ]
     },
     "execution_count": 155,
     "metadata": {},
     "output_type": "execute_result"
    },
    {
     "data": {
      "image/png": "[encoded data removed]",
      "text/plain": [
       "<Figure size 1000x200 with 1 Axes>"
      ]
     },
     "metadata": {},
     "output_type": "display_data"
    }
   ],
   "source": [
    "plt.figure(figsize=(10,2))\n",
    "plt.imshow(X_train[0])\n",
    "plt.title(y_train[0])"
   ]
  },
  {
   "cell_type": "code",
   "execution_count": 156,
   "id": "1d7511da",
   "metadata": {},
   "outputs": [],
   "source": [
    "# Normalize the data\n",
    "X_train = X_train / 255.0\n",
    "X_valid = X_valid / 255.0\n",
    "X_test = X_test / 255.0"
   ]
  },
  {
   "cell_type": "code",
   "execution_count": 157,
   "id": "64b3fd6f",
   "metadata": {},
   "outputs": [],
   "source": [
    "X_train, y_train = shuffle(X_train, y_train)"
   ]
  },
  {
   "cell_type": "code",
   "execution_count": 158,
   "id": "9a124e12",
   "metadata": {},
   "outputs": [],
   "source": [
    "sign_names = pd.read_csv(\"Road_signs/signname.csv\")\n",
    "label_dict = dict(zip(sign_names['ClassId'], sign_names['SignName']))"
   ]
  },
  {
   "cell_type": "code",
   "execution_count": 159,
   "id": "538d989f",
   "metadata": {},
   "outputs": [
    {
     "data": {
      "image/png": "[encoded data removed]",
      "text/plain": [
       "<Figure size 1000x500 with 10 Axes>"
      ]
     },
     "metadata": {},
     "output_type": "display_data"
    }
   ],
   "source": [
    "plt.figure(figsize=(10, 5))  \n",
    "\n",
    "for i in range(10):\n",
    "    plt.subplot(2, 5, i + 1)  \n",
    "    plt.imshow(X_train[i])\n",
    "    plt.title(label_dict[y_train[i]], fontsize=9)\n",
    "    plt.axis('off')\n",
    "\n",
    "plt.tight_layout()\n",
    "plt.show()"
   ]
  },
  {
   "cell_type": "code",
   "execution_count": 160,
   "id": "4a6cf19f",
   "metadata": {},
   "outputs": [
    {
     "name": "stderr",
     "output_type": "stream",
     "text": [
      "c:\\Users\\yahav\\anaconda3\\Lib\\site-packages\\keras\\src\\layers\\convolutional\\base_conv.py:113: UserWarning: Do not pass an `input_shape`/`input_dim` argument to a layer. When using Sequential models, prefer using an `Input(shape)` object as the first layer in the model instead.\n",
      "  super().__init__(activity_regularizer=activity_regularizer, **kwargs)\n"
     ]
    }
   ],
   "source": [
    "model = Sequential([Conv2D(32,(3,3),activation='relu',input_shape=(32,32,3)),\n",
    "                   MaxPooling2D((2,2)),\n",
    "\n",
    "                   Conv2D(64,(3,3),activation='relu'),\n",
    "                   MaxPooling2D((2,2)),\n",
    "\n",
    "                   Conv2D(64,(3,3),activation='relu'),\n",
    "\n",
    "                   Flatten(),\n",
    "                   Dense(64,activation='relu'),\n",
    "                   Dense(43,activation='softmax')\n",
    "\n",
    "                   ])"
   ]
  },
  {
   "cell_type": "code",
   "execution_count": 161,
   "id": "4fd66b59",
   "metadata": {},
   "outputs": [],
   "source": [
    "model.compile(optimizer='adam',loss='sparse_categorical_crossentropy',metrics=['accuracy'])"
   ]
  },
  {
   "cell_type": "code",
   "execution_count": 147,
   "id": "0251ee7a",
   "metadata": {},
   "outputs": [],
   "source": [
    "# model.summary()"
   ]
  },
  {
   "cell_type": "code",
   "execution_count": 162,
   "id": "257984b9",
   "metadata": {},
   "outputs": [
    {
     "name": "stdout",
     "output_type": "stream",
     "text": [
      "Epoch 1/10\n",
      "\u001b[1m544/544\u001b[0m \u001b[32m━━━━━━━━━━━━━━━━━━━━\u001b[0m\u001b[37m\u001b[0m \u001b[1m12s\u001b[0m 17ms/step - accuracy: 0.3914 - loss: 2.3109 - val_accuracy: 0.8478 - val_loss: 0.5940\n",
      "Epoch 2/10\n",
      "\u001b[1m544/544\u001b[0m \u001b[32m━━━━━━━━━━━━━━━━━━━━\u001b[0m\u001b[37m\u001b[0m \u001b[1m8s\u001b[0m 15ms/step - accuracy: 0.9272 - loss: 0.2613 - val_accuracy: 0.8900 - val_loss: 0.3918\n",
      "Epoch 3/10\n",
      "\u001b[1m544/544\u001b[0m \u001b[32m━━━━━━━━━━━━━━━━━━━━\u001b[0m\u001b[37m\u001b[0m \u001b[1m8s\u001b[0m 15ms/step - accuracy: 0.9725 - loss: 0.1132 - val_accuracy: 0.9159 - val_loss: 0.3609\n",
      "Epoch 4/10\n",
      "\u001b[1m544/544\u001b[0m \u001b[32m━━━━━━━━━━━━━━━━━━━━\u001b[0m\u001b[37m\u001b[0m \u001b[1m8s\u001b[0m 15ms/step - accuracy: 0.9825 - loss: 0.0666 - val_accuracy: 0.9240 - val_loss: 0.3404\n",
      "Epoch 5/10\n",
      "\u001b[1m544/544\u001b[0m \u001b[32m━━━━━━━━━━━━━━━━━━━━\u001b[0m\u001b[37m\u001b[0m \u001b[1m8s\u001b[0m 15ms/step - accuracy: 0.9877 - loss: 0.0558 - val_accuracy: 0.9200 - val_loss: 0.3798\n",
      "Epoch 6/10\n",
      "\u001b[1m544/544\u001b[0m \u001b[32m━━━━━━━━━━━━━━━━━━━━\u001b[0m\u001b[37m\u001b[0m \u001b[1m8s\u001b[0m 15ms/step - accuracy: 0.9894 - loss: 0.0383 - val_accuracy: 0.9422 - val_loss: 0.2534\n",
      "Epoch 7/10\n",
      "\u001b[1m544/544\u001b[0m \u001b[32m━━━━━━━━━━━━━━━━━━━━\u001b[0m\u001b[37m\u001b[0m \u001b[1m8s\u001b[0m 15ms/step - accuracy: 0.9910 - loss: 0.0324 - val_accuracy: 0.9431 - val_loss: 0.2317\n",
      "Epoch 8/10\n",
      "\u001b[1m544/544\u001b[0m \u001b[32m━━━━━━━━━━━━━━━━━━━━\u001b[0m\u001b[37m\u001b[0m \u001b[1m8s\u001b[0m 15ms/step - accuracy: 0.9920 - loss: 0.0282 - val_accuracy: 0.9649 - val_loss: 0.1621\n",
      "Epoch 9/10\n",
      "\u001b[1m544/544\u001b[0m \u001b[32m━━━━━━━━━━━━━━━━━━━━\u001b[0m\u001b[37m\u001b[0m \u001b[1m8s\u001b[0m 15ms/step - accuracy: 0.9947 - loss: 0.0191 - val_accuracy: 0.9293 - val_loss: 0.3504\n",
      "Epoch 10/10\n",
      "\u001b[1m544/544\u001b[0m \u001b[32m━━━━━━━━━━━━━━━━━━━━\u001b[0m\u001b[37m\u001b[0m \u001b[1m8s\u001b[0m 15ms/step - accuracy: 0.9944 - loss: 0.0178 - val_accuracy: 0.9463 - val_loss: 0.2045\n"
     ]
    }
   ],
   "source": [
    "history = model.fit(X_train, y_train,epochs=10,batch_size=64,validation_data=(X_valid, y_valid))\n"
   ]
  },
  {
   "cell_type": "code",
   "execution_count": 163,
   "id": "b4ac567a",
   "metadata": {},
   "outputs": [
    {
     "name": "stdout",
     "output_type": "stream",
     "text": [
      "\u001b[1m395/395\u001b[0m \u001b[32m━━━━━━━━━━━━━━━━━━━━\u001b[0m\u001b[37m\u001b[0m \u001b[1m2s\u001b[0m 4ms/step - accuracy: 0.9286 - loss: 0.4151\n",
      "Test accuracy: 0.9279493093490601\n"
     ]
    }
   ],
   "source": [
    "test_loss, test_acc = model.evaluate(X_test, y_test)\n",
    "print(\"Test accuracy:\", test_acc)\n"
   ]
  },
  {
   "cell_type": "code",
   "execution_count": 164,
   "id": "2303e76e",
   "metadata": {},
   "outputs": [
    {
     "name": "stdout",
     "output_type": "stream",
     "text": [
      "\u001b[1m1088/1088\u001b[0m \u001b[32m━━━━━━━━━━━━━━━━━━━━\u001b[0m\u001b[37m\u001b[0m \u001b[1m5s\u001b[0m 4ms/step - accuracy: 0.9958 - loss: 0.0136\n",
      "Train accuracy: 0.9955458641052246\n"
     ]
    }
   ],
   "source": [
    "train_loss, train_acc = model.evaluate(X_train, y_train)\n",
    "print(\"Train accuracy:\", train_acc)\n"
   ]
  },
  {
   "cell_type": "code",
   "execution_count": 165,
   "id": "a658e773",
   "metadata": {},
   "outputs": [
    {
     "name": "stdout",
     "output_type": "stream",
     "text": [
      "\u001b[1m395/395\u001b[0m \u001b[32m━━━━━━━━━━━━━━━━━━━━\u001b[0m\u001b[37m\u001b[0m \u001b[1m2s\u001b[0m 4ms/step\n"
     ]
    }
   ],
   "source": [
    "y_pred_prob = model.predict(X_test)\n",
    "y_pred = y_pred_prob.argmax(axis=1)\n",
    "y_true = y_test.flatten()"
   ]
  },
  {
   "cell_type": "code",
   "execution_count": 166,
   "id": "6de65cb6",
   "metadata": {},
   "outputs": [
    {
     "name": "stdout",
     "output_type": "stream",
     "text": [
      "Actual: Vehicles over 3.5 metric tons prohibited  Predicted: Vehicles over 3.5 metric tons prohibited\n",
      "Actual: Speed limit (30km/h)  Predicted: Speed limit (30km/h)\n",
      "Actual: Keep right  Predicted: Keep right\n",
      "Actual: Turn right ahead  Predicted: Turn right ahead\n",
      "Actual: Right-of-way at the next intersection  Predicted: Right-of-way at the next intersection\n",
      "Actual: Keep right  Predicted: Keep right\n",
      "Actual: General caution  Predicted: General caution\n",
      "Actual: Priority road  Predicted: Priority road\n",
      "Actual: Road work  Predicted: Road work\n",
      "Actual: Ahead only  Predicted: Ahead only\n",
      "Actual: Priority road  Predicted: Priority road\n",
      "Actual: Speed limit (100km/h)  Predicted: Speed limit (100km/h)\n",
      "Actual: Slippery road  Predicted: Slippery road\n",
      "Actual: Speed limit (100km/h)  Predicted: Speed limit (100km/h)\n",
      "Actual: Speed limit (70km/h)  Predicted: Speed limit (70km/h)\n",
      "Actual: No passing  Predicted: No passing\n",
      "Actual: Double curve  Predicted: Double curve\n",
      "Actual: Dangerous curve to the right  Predicted: Dangerous curve to the right\n",
      "Actual: Pedestrians  Predicted: Pedestrians\n",
      "Actual: Keep right  Predicted: Keep right\n"
     ]
    }
   ],
   "source": [
    "for i in range(20):\n",
    "    print(f\"Actual: {label_dict[y_true[i]]}  Predicted: {label_dict[y_pred[i]]}\")"
   ]
  },
  {
   "cell_type": "code",
   "execution_count": 167,
   "id": "061a8bf2",
   "metadata": {},
   "outputs": [
    {
     "name": "stdout",
     "output_type": "stream",
     "text": [
      "                                               precision    recall  f1-score   support\n",
      "\n",
      "                         Speed limit (20km/h)       0.94      0.73      0.82        60\n",
      "                         Speed limit (30km/h)       0.94      0.96      0.95       720\n",
      "                         Speed limit (50km/h)       0.90      0.95      0.92       750\n",
      "                         Speed limit (60km/h)       0.89      0.89      0.89       450\n",
      "                         Speed limit (70km/h)       0.97      0.96      0.96       660\n",
      "                         Speed limit (80km/h)       0.86      0.91      0.88       630\n",
      "                  End of speed limit (80km/h)       0.97      0.79      0.87       150\n",
      "                        Speed limit (100km/h)       0.98      0.88      0.93       450\n",
      "                        Speed limit (120km/h)       0.94      0.94      0.94       450\n",
      "                                   No passing       0.95      0.98      0.97       480\n",
      " No passing for vehicles over 3.5 metric tons       0.97      0.98      0.98       660\n",
      "        Right-of-way at the next intersection       0.93      0.93      0.93       420\n",
      "                                Priority road       0.99      0.94      0.96       690\n",
      "                                        Yield       1.00      0.96      0.98       720\n",
      "                                         Stop       1.00      0.99      1.00       270\n",
      "                                  No vehicles       0.99      0.90      0.95       210\n",
      "     Vehicles over 3.5 metric tons prohibited       0.96      0.98      0.97       150\n",
      "                                     No entry       0.98      0.99      0.98       360\n",
      "                              General caution       0.92      0.81      0.86       390\n",
      "                  Dangerous curve to the left       0.97      1.00      0.98        60\n",
      "                 Dangerous curve to the right       0.80      0.84      0.82        90\n",
      "                                 Double curve       0.71      0.80      0.75        90\n",
      "                                   Bumpy road       1.00      0.88      0.94       120\n",
      "                                Slippery road       0.79      0.91      0.84       150\n",
      "                    Road narrows on the right       0.74      0.69      0.71        90\n",
      "                                    Road work       0.93      0.92      0.92       480\n",
      "                              Traffic signals       0.84      0.87      0.85       180\n",
      "                                  Pedestrians       0.51      0.53      0.52        60\n",
      "                            Children crossing       0.82      0.87      0.85       150\n",
      "                            Bicycles crossing       0.94      0.69      0.79        90\n",
      "                           Beware of ice/snow       0.66      0.76      0.71       150\n",
      "                        Wild animals crossing       0.96      0.98      0.97       270\n",
      "          End of all speed and passing limits       0.97      1.00      0.98        60\n",
      "                             Turn right ahead       0.99      0.99      0.99       210\n",
      "                              Turn left ahead       0.86      0.99      0.92       120\n",
      "                                   Ahead only       0.90      1.00      0.95       390\n",
      "                         Go straight or right       0.85      0.96      0.90       120\n",
      "                          Go straight or left       1.00      0.93      0.97        60\n",
      "                                   Keep right       0.99      0.94      0.96       690\n",
      "                                    Keep left       0.98      0.94      0.96        90\n",
      "                         Roundabout mandatory       0.57      0.86      0.69        90\n",
      "                            End of no passing       1.00      0.68      0.81        60\n",
      "End of no passing by vehicles over 3.5 metric       0.96      0.97      0.96        90\n",
      "\n",
      "                                     accuracy                           0.93     12630\n",
      "                                    macro avg       0.90      0.90      0.90     12630\n",
      "                                 weighted avg       0.93      0.93      0.93     12630\n",
      "\n"
     ]
    }
   ],
   "source": [
    "print(classification_report(y_test, y_pred , target_names=sign_names['SignName'].values))"
   ]
  },
  {
   "cell_type": "markdown",
   "id": "c7c6d1ae",
   "metadata": {},
   "source": [
    "## Optimizing"
   ]
  },
  {
   "cell_type": "code",
   "execution_count": 168,
   "id": "55e0e731",
   "metadata": {},
   "outputs": [
    {
     "name": "stderr",
     "output_type": "stream",
     "text": [
      "c:\\Users\\yahav\\anaconda3\\Lib\\site-packages\\keras\\src\\layers\\convolutional\\base_conv.py:113: UserWarning: Do not pass an `input_shape`/`input_dim` argument to a layer. When using Sequential models, prefer using an `Input(shape)` object as the first layer in the model instead.\n",
      "  super().__init__(activity_regularizer=activity_regularizer, **kwargs)\n"
     ]
    }
   ],
   "source": [
    "model = models.Sequential([\n",
    "    Conv2D(32, (3,3), activation='relu', input_shape=(32,32,3)),\n",
    "    MaxPooling2D(2,2),\n",
    "    Dropout(0.25),\n",
    "\n",
    "    Conv2D(64, (3,3), activation='relu'),\n",
    "    MaxPooling2D(2,2),\n",
    "    Dropout(0.25),\n",
    "    \n",
    "    Conv2D(128, (3,3), activation='relu'),\n",
    "    MaxPooling2D(2,2),\n",
    "    Dropout(0.25),\n",
    "\n",
    "    Flatten(),\n",
    "    Dense(128, activation='relu'),\n",
    "    Dropout(0.5),\n",
    "    Dense(43, activation='softmax')\n",
    "])\n"
   ]
  },
  {
   "cell_type": "code",
   "execution_count": 169,
   "id": "debb7020",
   "metadata": {},
   "outputs": [],
   "source": [
    "model.compile(optimizer='adam',loss='sparse_categorical_crossentropy',metrics=['accuracy'])"
   ]
  },
  {
   "cell_type": "code",
   "execution_count": 170,
   "id": "e7db3cde",
   "metadata": {},
   "outputs": [],
   "source": [
    "early_stop = EarlyStopping(monitor='val_loss', patience=5, restore_best_weights=True)"
   ]
  },
  {
   "cell_type": "code",
   "execution_count": 171,
   "id": "9fae1c5c",
   "metadata": {},
   "outputs": [
    {
     "name": "stdout",
     "output_type": "stream",
     "text": [
      "Epoch 1/50\n",
      "\u001b[1m1088/1088\u001b[0m \u001b[32m━━━━━━━━━━━━━━━━━━━━\u001b[0m\u001b[37m\u001b[0m \u001b[1m21s\u001b[0m 17ms/step - accuracy: 0.1947 - loss: 2.9363 - val_accuracy: 0.6655 - val_loss: 1.0937\n",
      "Epoch 2/50\n",
      "\u001b[1m1088/1088\u001b[0m \u001b[32m━━━━━━━━━━━━━━━━━━━━\u001b[0m\u001b[37m\u001b[0m \u001b[1m23s\u001b[0m 21ms/step - accuracy: 0.6782 - loss: 0.9695 - val_accuracy: 0.9036 - val_loss: 0.3895\n",
      "Epoch 3/50\n",
      "\u001b[1m1088/1088\u001b[0m \u001b[32m━━━━━━━━━━━━━━━━━━━━\u001b[0m\u001b[37m\u001b[0m \u001b[1m24s\u001b[0m 22ms/step - accuracy: 0.8501 - loss: 0.4575 - val_accuracy: 0.9442 - val_loss: 0.2279\n",
      "Epoch 4/50\n",
      "\u001b[1m1088/1088\u001b[0m \u001b[32m━━━━━━━━━━━━━━━━━━━━\u001b[0m\u001b[37m\u001b[0m \u001b[1m21s\u001b[0m 19ms/step - accuracy: 0.8991 - loss: 0.3156 - val_accuracy: 0.9512 - val_loss: 0.2569\n",
      "Epoch 5/50\n",
      "\u001b[1m1088/1088\u001b[0m \u001b[32m━━━━━━━━━━━━━━━━━━━━\u001b[0m\u001b[37m\u001b[0m \u001b[1m12s\u001b[0m 11ms/step - accuracy: 0.9278 - loss: 0.2257 - val_accuracy: 0.9546 - val_loss: 0.1880\n",
      "Epoch 6/50\n",
      "\u001b[1m1088/1088\u001b[0m \u001b[32m━━━━━━━━━━━━━━━━━━━━\u001b[0m\u001b[37m\u001b[0m \u001b[1m12s\u001b[0m 11ms/step - accuracy: 0.9397 - loss: 0.1921 - val_accuracy: 0.9737 - val_loss: 0.1418\n",
      "Epoch 7/50\n",
      "\u001b[1m1088/1088\u001b[0m \u001b[32m━━━━━━━━━━━━━━━━━━━━\u001b[0m\u001b[37m\u001b[0m \u001b[1m12s\u001b[0m 11ms/step - accuracy: 0.9492 - loss: 0.1640 - val_accuracy: 0.9658 - val_loss: 0.1559\n",
      "Epoch 8/50\n",
      "\u001b[1m1088/1088\u001b[0m \u001b[32m━━━━━━━━━━━━━━━━━━━━\u001b[0m\u001b[37m\u001b[0m \u001b[1m12s\u001b[0m 11ms/step - accuracy: 0.9536 - loss: 0.1455 - val_accuracy: 0.9746 - val_loss: 0.1793\n",
      "Epoch 9/50\n",
      "\u001b[1m1088/1088\u001b[0m \u001b[32m━━━━━━━━━━━━━━━━━━━━\u001b[0m\u001b[37m\u001b[0m \u001b[1m12s\u001b[0m 11ms/step - accuracy: 0.9574 - loss: 0.1351 - val_accuracy: 0.9751 - val_loss: 0.1153\n",
      "Epoch 10/50\n",
      "\u001b[1m1088/1088\u001b[0m \u001b[32m━━━━━━━━━━━━━━━━━━━━\u001b[0m\u001b[37m\u001b[0m \u001b[1m12s\u001b[0m 11ms/step - accuracy: 0.9583 - loss: 0.1298 - val_accuracy: 0.9705 - val_loss: 0.1120\n",
      "Epoch 11/50\n",
      "\u001b[1m1088/1088\u001b[0m \u001b[32m━━━━━━━━━━━━━━━━━━━━\u001b[0m\u001b[37m\u001b[0m \u001b[1m13s\u001b[0m 12ms/step - accuracy: 0.9647 - loss: 0.1122 - val_accuracy: 0.9748 - val_loss: 0.1345\n",
      "Epoch 12/50\n",
      "\u001b[1m1088/1088\u001b[0m \u001b[32m━━━━━━━━━━━━━━━━━━━━\u001b[0m\u001b[37m\u001b[0m \u001b[1m12s\u001b[0m 11ms/step - accuracy: 0.9670 - loss: 0.1079 - val_accuracy: 0.9748 - val_loss: 0.1012\n",
      "Epoch 13/50\n",
      "\u001b[1m1088/1088\u001b[0m \u001b[32m━━━━━━━━━━━━━━━━━━━━\u001b[0m\u001b[37m\u001b[0m \u001b[1m13s\u001b[0m 12ms/step - accuracy: 0.9688 - loss: 0.1048 - val_accuracy: 0.9726 - val_loss: 0.1130\n",
      "Epoch 14/50\n",
      "\u001b[1m1088/1088\u001b[0m \u001b[32m━━━━━━━━━━━━━━━━━━━━\u001b[0m\u001b[37m\u001b[0m \u001b[1m18s\u001b[0m 17ms/step - accuracy: 0.9691 - loss: 0.1023 - val_accuracy: 0.9791 - val_loss: 0.1004\n",
      "Epoch 15/50\n",
      "\u001b[1m1088/1088\u001b[0m \u001b[32m━━━━━━━━━━━━━━━━━━━━\u001b[0m\u001b[37m\u001b[0m \u001b[1m15s\u001b[0m 14ms/step - accuracy: 0.9687 - loss: 0.1003 - val_accuracy: 0.9762 - val_loss: 0.2008\n",
      "Epoch 16/50\n",
      "\u001b[1m1088/1088\u001b[0m \u001b[32m━━━━━━━━━━━━━━━━━━━━\u001b[0m\u001b[37m\u001b[0m \u001b[1m21s\u001b[0m 19ms/step - accuracy: 0.9727 - loss: 0.0889 - val_accuracy: 0.9732 - val_loss: 0.0965\n",
      "Epoch 17/50\n",
      "\u001b[1m1088/1088\u001b[0m \u001b[32m━━━━━━━━━━━━━━━━━━━━\u001b[0m\u001b[37m\u001b[0m \u001b[1m12s\u001b[0m 11ms/step - accuracy: 0.9696 - loss: 0.1017 - val_accuracy: 0.9746 - val_loss: 0.1103\n",
      "Epoch 18/50\n",
      "\u001b[1m1088/1088\u001b[0m \u001b[32m━━━━━━━━━━━━━━━━━━━━\u001b[0m\u001b[37m\u001b[0m \u001b[1m12s\u001b[0m 11ms/step - accuracy: 0.9738 - loss: 0.0886 - val_accuracy: 0.9721 - val_loss: 0.1620\n",
      "Epoch 19/50\n",
      "\u001b[1m1088/1088\u001b[0m \u001b[32m━━━━━━━━━━━━━━━━━━━━\u001b[0m\u001b[37m\u001b[0m \u001b[1m12s\u001b[0m 11ms/step - accuracy: 0.9749 - loss: 0.0862 - val_accuracy: 0.9769 - val_loss: 0.1024\n",
      "Epoch 20/50\n",
      "\u001b[1m1088/1088\u001b[0m \u001b[32m━━━━━━━━━━━━━━━━━━━━\u001b[0m\u001b[37m\u001b[0m \u001b[1m12s\u001b[0m 11ms/step - accuracy: 0.9736 - loss: 0.0868 - val_accuracy: 0.9753 - val_loss: 0.1234\n",
      "Epoch 21/50\n",
      "\u001b[1m1088/1088\u001b[0m \u001b[32m━━━━━━━━━━━━━━━━━━━━\u001b[0m\u001b[37m\u001b[0m \u001b[1m21s\u001b[0m 12ms/step - accuracy: 0.9759 - loss: 0.0838 - val_accuracy: 0.9764 - val_loss: 0.1087\n"
     ]
    }
   ],
   "source": [
    "tunned = model.fit(X_train, y_train,epochs=50,batch_size=32,callbacks=[early_stop],validation_data=(X_valid, y_valid))"
   ]
  },
  {
   "cell_type": "code",
   "execution_count": 172,
   "id": "ed4aad66",
   "metadata": {},
   "outputs": [
    {
     "name": "stdout",
     "output_type": "stream",
     "text": [
      "\u001b[1m395/395\u001b[0m \u001b[32m━━━━━━━━━━━━━━━━━━━━\u001b[0m\u001b[37m\u001b[0m \u001b[1m2s\u001b[0m 5ms/step - accuracy: 0.9639 - loss: 0.1769\n",
      "Test accuracy: 0.963341236114502\n",
      "\u001b[1m1088/1088\u001b[0m \u001b[32m━━━━━━━━━━━━━━━━━━━━\u001b[0m\u001b[37m\u001b[0m \u001b[1m5s\u001b[0m 5ms/step - accuracy: 0.9982 - loss: 0.0062\n",
      "Train accuracy: 0.9982183575630188\n"
     ]
    }
   ],
   "source": [
    "test_loss, test_acc = model.evaluate(X_test, y_test)\n",
    "print(\"Test accuracy:\", test_acc)\n",
    "train_loss, train_acc = model.evaluate(X_train, y_train)\n",
    "print(\"Train accuracy:\", train_acc)"
   ]
  },
  {
   "cell_type": "code",
   "execution_count": 173,
   "id": "c1a79ce2",
   "metadata": {},
   "outputs": [
    {
     "name": "stdout",
     "output_type": "stream",
     "text": [
      "\u001b[1m395/395\u001b[0m \u001b[32m━━━━━━━━━━━━━━━━━━━━\u001b[0m\u001b[37m\u001b[0m \u001b[1m2s\u001b[0m 5ms/step\n"
     ]
    }
   ],
   "source": [
    "y_pred_prob = model.predict(X_test)\n",
    "y_pred = y_pred_prob.argmax(axis=1)\n",
    "y_true = y_test.flatten()"
   ]
  },
  {
   "cell_type": "code",
   "execution_count": 174,
   "id": "397fefd2",
   "metadata": {},
   "outputs": [
    {
     "name": "stdout",
     "output_type": "stream",
     "text": [
      "Actual: Vehicles over 3.5 metric tons prohibited  Predicted: Vehicles over 3.5 metric tons prohibited\n",
      "Actual: Speed limit (30km/h)  Predicted: Speed limit (30km/h)\n",
      "Actual: Keep right  Predicted: Keep right\n",
      "Actual: Turn right ahead  Predicted: Turn right ahead\n",
      "Actual: Right-of-way at the next intersection  Predicted: Right-of-way at the next intersection\n",
      "Actual: Keep right  Predicted: Keep right\n",
      "Actual: General caution  Predicted: General caution\n",
      "Actual: Priority road  Predicted: Priority road\n",
      "Actual: Road work  Predicted: Road work\n",
      "Actual: Ahead only  Predicted: Ahead only\n"
     ]
    }
   ],
   "source": [
    "for i in range(10):\n",
    "    print(f\"Actual: {label_dict[y_true[i]]}  Predicted: {label_dict[y_pred[i]]}\")\n"
   ]
  },
  {
   "cell_type": "code",
   "execution_count": 175,
   "id": "f3b8a246",
   "metadata": {},
   "outputs": [
    {
     "name": "stdout",
     "output_type": "stream",
     "text": [
      "                                               precision    recall  f1-score   support\n",
      "\n",
      "                         Speed limit (20km/h)       1.00      0.97      0.98        60\n",
      "                         Speed limit (30km/h)       0.97      0.99      0.98       720\n",
      "                         Speed limit (50km/h)       0.98      0.99      0.98       750\n",
      "                         Speed limit (60km/h)       0.99      0.93      0.96       450\n",
      "                         Speed limit (70km/h)       1.00      0.98      0.99       660\n",
      "                         Speed limit (80km/h)       0.91      0.96      0.94       630\n",
      "                  End of speed limit (80km/h)       0.99      0.93      0.96       150\n",
      "                        Speed limit (100km/h)       0.99      0.95      0.97       450\n",
      "                        Speed limit (120km/h)       0.96      0.97      0.97       450\n",
      "                                   No passing       0.97      1.00      0.98       480\n",
      " No passing for vehicles over 3.5 metric tons       1.00      0.99      0.99       660\n",
      "        Right-of-way at the next intersection       0.91      0.98      0.94       420\n",
      "                                Priority road       0.96      0.95      0.96       690\n",
      "                                        Yield       1.00      1.00      1.00       720\n",
      "                                         Stop       1.00      1.00      1.00       270\n",
      "                                  No vehicles       0.96      1.00      0.98       210\n",
      "     Vehicles over 3.5 metric tons prohibited       0.99      1.00      0.99       150\n",
      "                                     No entry       1.00      0.99      0.99       360\n",
      "                              General caution       0.96      0.93      0.95       390\n",
      "                  Dangerous curve to the left       0.85      1.00      0.92        60\n",
      "                 Dangerous curve to the right       0.77      0.96      0.85        90\n",
      "                                 Double curve       0.89      0.54      0.68        90\n",
      "                                   Bumpy road       0.95      0.87      0.90       120\n",
      "                                Slippery road       0.94      0.99      0.96       150\n",
      "                    Road narrows on the right       0.99      0.89      0.94        90\n",
      "                                    Road work       0.99      0.87      0.93       480\n",
      "                              Traffic signals       0.92      0.94      0.93       180\n",
      "                                  Pedestrians       0.70      0.80      0.74        60\n",
      "                            Children crossing       0.97      0.97      0.97       150\n",
      "                            Bicycles crossing       0.81      0.97      0.88        90\n",
      "                           Beware of ice/snow       0.89      0.73      0.80       150\n",
      "                        Wild animals crossing       0.87      0.99      0.92       270\n",
      "          End of all speed and passing limits       0.74      1.00      0.85        60\n",
      "                             Turn right ahead       1.00      0.99      0.99       210\n",
      "                              Turn left ahead       1.00      0.99      1.00       120\n",
      "                                   Ahead only       1.00      1.00      1.00       390\n",
      "                         Go straight or right       0.95      0.95      0.95       120\n",
      "                          Go straight or left       1.00      1.00      1.00        60\n",
      "                                   Keep right       0.99      0.99      0.99       690\n",
      "                                    Keep left       0.99      0.98      0.98        90\n",
      "                         Roundabout mandatory       0.96      0.98      0.97        90\n",
      "                            End of no passing       1.00      0.77      0.87        60\n",
      "End of no passing by vehicles over 3.5 metric       0.97      1.00      0.98        90\n",
      "\n",
      "                                     accuracy                           0.96     12630\n",
      "                                    macro avg       0.94      0.95      0.94     12630\n",
      "                                 weighted avg       0.97      0.96      0.96     12630\n",
      "\n"
     ]
    }
   ],
   "source": [
    "print(classification_report(y_test, y_pred , target_names=sign_names['SignName'].values))"
   ]
  },
  {
   "cell_type": "code",
   "execution_count": 177,
   "id": "c8719a91",
   "metadata": {},
   "outputs": [
    {
     "data": {
      "text/plain": [
       "<matplotlib.legend.Legend at 0x1e8ae4fec90>"
      ]
     },
     "execution_count": 177,
     "metadata": {},
     "output_type": "execute_result"
    },
    {
     "data": {
      "image/png": "[encoded data removed]",
      "text/plain": [
       "<Figure size 1200x500 with 1 Axes>"
      ]
     },
     "metadata": {},
     "output_type": "display_data"
    }
   ],
   "source": [
    "plt.figure(figsize=(12, 5))\n",
    "plt.subplot(1, 2, 1)\n",
    "plt.plot(tunned.history['accuracy'], label='Train Accuracy')\n",
    "plt.plot(tunned.history['val_accuracy'], label='Validation Accuracy')\n",
    "plt.title('Training vs Validation Accuracy')\n",
    "plt.xlabel('Epoch')\n",
    "plt.ylabel('Accuracy')\n",
    "plt.legend()\n"
   ]
  },
  {
   "cell_type": "code",
   "execution_count": 179,
   "id": "031d8ff3",
   "metadata": {},
   "outputs": [
    {
     "data": {
      "text/plain": [
       "<matplotlib.legend.Legend at 0x1e80598c800>"
      ]
     },
     "execution_count": 179,
     "metadata": {},
     "output_type": "execute_result"
    },
    {
     "data": {
      "image/png": "[encoded data removed]",
      "text/plain": [
       "<Figure size 1200x500 with 1 Axes>"
      ]
     },
     "metadata": {},
     "output_type": "display_data"
    }
   ],
   "source": [
    "plt.figure(figsize=(12, 5))\n",
    "plt.subplot(1, 2, 2)\n",
    "plt.plot(tunned.history['loss'], label='Train Loss')\n",
    "plt.plot(tunned.history['val_loss'], label='Validation Loss')\n",
    "plt.title('Training vs Validation Loss')\n",
    "plt.xlabel('Epoch')\n",
    "plt.ylabel('Loss')\n",
    "plt.legend()"
   ]
  },
  {
   "cell_type": "code",
   "execution_count": 183,
   "id": "b9182665",
   "metadata": {},
   "outputs": [
    {
     "name": "stderr",
     "output_type": "stream",
     "text": [
      "WARNING:absl:You are saving your model as an HDF5 file via `model.save()` or `keras.saving.save_model(model)`. This file format is considered legacy. We recommend using instead the native Keras format, e.g. `model.save('my_model.keras')` or `keras.saving.save_model(model, 'my_model.keras')`. \n"
     ]
    }
   ],
   "source": [
    "model.save(\"road_sign_model.h5\")\n"
   ]
  }
 ],
 "metadata": {
  "kernelspec": {
   "display_name": "base",
   "language": "python",
   "name": "python3"
  },
  "language_info": {
   "codemirror_mode": {
    "name": "ipython",
    "version": 3
   },
   "file_extension": ".py",
   "mimetype": "text/x-python",
   "name": "python",
   "nbconvert_exporter": "python",
   "pygments_lexer": "ipython3",
   "version": "3.12.7"
  }
 },
 "nbformat": 4,
 "nbformat_minor": 5
}
